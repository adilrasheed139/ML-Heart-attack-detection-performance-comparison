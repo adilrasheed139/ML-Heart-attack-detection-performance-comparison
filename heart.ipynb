{
 "cells": [
  {
   "cell_type": "markdown",
   "metadata": {},
   "source": [
    "## Table Of Content\n",
    "### Steps are:\n",
    "1. Load the dataset.\n",
    "2. Preprocess the data (handling missing values, encoding categorical variables, etc.).\n",
    "3. Split the data into features (X) and the response variable (y).\n",
    "4. Define the machine learning models: KNN, SVM, Logistic Regression, Random Forest, Decision Tree, Naive Bayes.\n",
    "5. Perform cross-validation with different folds (1-fold, 3-fold, 5-fold, and 10-fold).\n",
    "6. Evaluate each model using performance measures such as accuracy, precision, recall, F1-score, and ROC-AUC.\n",
    "7. Create a summary report to interpret the results and visualize them using charts."
   ]
  },
  {
   "cell_type": "markdown",
   "metadata": {},
   "source": [
    "# import requaired libraries"
   ]
  },
  {
   "cell_type": "code",
   "execution_count": 555,
   "metadata": {},
   "outputs": [],
   "source": [
    "import pandas as pd\n",
    "import numpy as np\n",
    "\n",
    "# Import Machine Learning Models\n",
    "from sklearn.neighbors import KNeighborsClassifier\n",
    "from sklearn.svm import SVC\n",
    "from sklearn.linear_model import LogisticRegression\n",
    "from sklearn.ensemble import RandomForestClassifier\n",
    "from sklearn.tree import DecisionTreeClassifier\n",
    "from sklearn.naive_bayes import GaussianNB\n",
    "\n",
    "from sklearn.model_selection import cross_val_score, KFold, cross_validate, train_test_split\n",
    "from sklearn.metrics import accuracy_score, precision_score, recall_score, f1_score, roc_auc_score, make_scorer, confusion_matrix\n",
    "\n",
    "# Data Visualization Libraries\n",
    "import seaborn as sns\n",
    "import matplotlib.pyplot as plt\n",
    "\n",
    "# Converting the columns/Datatypes\n",
    "from sklearn.preprocessing import LabelEncoder, StandardScaler"
   ]
  },
  {
   "cell_type": "markdown",
   "metadata": {},
   "source": [
    "# Load DataSet"
   ]
  },
  {
   "cell_type": "code",
   "execution_count": 556,
   "metadata": {},
   "outputs": [],
   "source": [
    "data = pd.read_excel(r\"D:\\BS DS\\Six Semester\\Machine Learning\\Lab\\Heart Assignment #4/Heart_Data.xlsx\")"
   ]
  },
  {
   "cell_type": "markdown",
   "metadata": {},
   "source": [
    "After collecting data, we need to know what are the shape of this dataset, Here we have attribute`(property)` called `data.shape`\n",
    "\n",
    "For that we have 2 type of methods to show the shape of the datasets.\n",
    "\n",
    "1. `len(data.index), len(data.columns)`\n",
    "- data.shape"
   ]
  },
  {
   "cell_type": "code",
   "execution_count": 557,
   "metadata": {},
   "outputs": [
    {
     "data": {
      "text/plain": [
       "(200, 16)"
      ]
     },
     "execution_count": 557,
     "metadata": {},
     "output_type": "execute_result"
    }
   ],
   "source": [
    "data.shape"
   ]
  },
  {
   "cell_type": "markdown",
   "metadata": {},
   "source": [
    "Display the Head & Tail of the dataset"
   ]
  },
  {
   "cell_type": "code",
   "execution_count": 558,
   "metadata": {},
   "outputs": [
    {
     "data": {
      "text/html": [
       "<div>\n",
       "<style scoped>\n",
       "    .dataframe tbody tr th:only-of-type {\n",
       "        vertical-align: middle;\n",
       "    }\n",
       "\n",
       "    .dataframe tbody tr th {\n",
       "        vertical-align: top;\n",
       "    }\n",
       "\n",
       "    .dataframe thead th {\n",
       "        text-align: right;\n",
       "    }\n",
       "</style>\n",
       "<table border=\"1\" class=\"dataframe\">\n",
       "  <thead>\n",
       "    <tr style=\"text-align: right;\">\n",
       "      <th></th>\n",
       "      <th>serialNo</th>\n",
       "      <th>area</th>\n",
       "      <th>age</th>\n",
       "      <th>exercise</th>\n",
       "      <th>fast_food_new</th>\n",
       "      <th>occupation</th>\n",
       "      <th>incom_catg</th>\n",
       "      <th>smoking</th>\n",
       "      <th>marital_status</th>\n",
       "      <th>meat_intake</th>\n",
       "      <th>cooking_oil</th>\n",
       "      <th>fast_food</th>\n",
       "      <th>height</th>\n",
       "      <th>weight</th>\n",
       "      <th>bypass</th>\n",
       "      <th>heart_attack</th>\n",
       "    </tr>\n",
       "  </thead>\n",
       "  <tbody>\n",
       "    <tr>\n",
       "      <th>0</th>\n",
       "      <td>1</td>\n",
       "      <td>urban</td>\n",
       "      <td>64</td>\n",
       "      <td>none</td>\n",
       "      <td>greater than 3</td>\n",
       "      <td>job/business</td>\n",
       "      <td>middle</td>\n",
       "      <td>no smoker</td>\n",
       "      <td>single</td>\n",
       "      <td>&gt;3</td>\n",
       "      <td>oil</td>\n",
       "      <td>ex fast food</td>\n",
       "      <td>5.0</td>\n",
       "      <td>75</td>\n",
       "      <td>no</td>\n",
       "      <td>yes</td>\n",
       "    </tr>\n",
       "    <tr>\n",
       "      <th>1</th>\n",
       "      <td>2</td>\n",
       "      <td>rural</td>\n",
       "      <td>61</td>\n",
       "      <td>none</td>\n",
       "      <td>greater than 3</td>\n",
       "      <td>job/business</td>\n",
       "      <td>middle</td>\n",
       "      <td>no smoker</td>\n",
       "      <td>married</td>\n",
       "      <td>&gt;3</td>\n",
       "      <td>ghee</td>\n",
       "      <td>none</td>\n",
       "      <td>5.2</td>\n",
       "      <td>75</td>\n",
       "      <td>no</td>\n",
       "      <td>no</td>\n",
       "    </tr>\n",
       "    <tr>\n",
       "      <th>2</th>\n",
       "      <td>3</td>\n",
       "      <td>rural</td>\n",
       "      <td>75</td>\n",
       "      <td>none</td>\n",
       "      <td>greater than 3</td>\n",
       "      <td>job/business</td>\n",
       "      <td>middle</td>\n",
       "      <td>no smoker</td>\n",
       "      <td>single</td>\n",
       "      <td>&gt;3</td>\n",
       "      <td>oil</td>\n",
       "      <td>ex fast food</td>\n",
       "      <td>5.3</td>\n",
       "      <td>75</td>\n",
       "      <td>no</td>\n",
       "      <td>no</td>\n",
       "    </tr>\n",
       "    <tr>\n",
       "      <th>3</th>\n",
       "      <td>4</td>\n",
       "      <td>urban</td>\n",
       "      <td>70</td>\n",
       "      <td>none</td>\n",
       "      <td>less than 3</td>\n",
       "      <td>other wages</td>\n",
       "      <td>middle</td>\n",
       "      <td>no smoker</td>\n",
       "      <td>single</td>\n",
       "      <td>&lt;3</td>\n",
       "      <td>ghee</td>\n",
       "      <td>two time</td>\n",
       "      <td>5.5</td>\n",
       "      <td>70</td>\n",
       "      <td>no</td>\n",
       "      <td>no</td>\n",
       "    </tr>\n",
       "    <tr>\n",
       "      <th>4</th>\n",
       "      <td>5</td>\n",
       "      <td>rural</td>\n",
       "      <td>53</td>\n",
       "      <td>none</td>\n",
       "      <td>greater than 3</td>\n",
       "      <td>other wages</td>\n",
       "      <td>middle</td>\n",
       "      <td>no smoker</td>\n",
       "      <td>married</td>\n",
       "      <td>&gt;3</td>\n",
       "      <td>ghee</td>\n",
       "      <td>ex fast food</td>\n",
       "      <td>5.0</td>\n",
       "      <td>50</td>\n",
       "      <td>no</td>\n",
       "      <td>yes</td>\n",
       "    </tr>\n",
       "  </tbody>\n",
       "</table>\n",
       "</div>"
      ],
      "text/plain": [
       "   serialNo   area  age exercise   fast_food_new    occupation incom_catg  \\\n",
       "0         1  urban   64     none  greater than 3  job/business     middle   \n",
       "1         2  rural   61     none  greater than 3  job/business     middle   \n",
       "2         3  rural   75     none  greater than 3  job/business     middle   \n",
       "3         4  urban   70     none     less than 3   other wages     middle   \n",
       "4         5  rural   53     none  greater than 3   other wages     middle   \n",
       "\n",
       "     smoking marital_status meat_intake cooking_oil     fast_food  height  \\\n",
       "0  no smoker         single          >3         oil  ex fast food     5.0   \n",
       "1  no smoker        married          >3        ghee          none     5.2   \n",
       "2  no smoker         single          >3         oil  ex fast food     5.3   \n",
       "3  no smoker         single          <3        ghee      two time     5.5   \n",
       "4  no smoker        married          >3        ghee  ex fast food     5.0   \n",
       "\n",
       "   weight bypass heart_attack  \n",
       "0      75     no          yes  \n",
       "1      75     no           no  \n",
       "2      75     no           no  \n",
       "3      70     no           no  \n",
       "4      50     no          yes  "
      ]
     },
     "execution_count": 558,
     "metadata": {},
     "output_type": "execute_result"
    }
   ],
   "source": [
    "data.head()"
   ]
  },
  {
   "cell_type": "code",
   "execution_count": 559,
   "metadata": {},
   "outputs": [
    {
     "data": {
      "text/html": [
       "<div>\n",
       "<style scoped>\n",
       "    .dataframe tbody tr th:only-of-type {\n",
       "        vertical-align: middle;\n",
       "    }\n",
       "\n",
       "    .dataframe tbody tr th {\n",
       "        vertical-align: top;\n",
       "    }\n",
       "\n",
       "    .dataframe thead th {\n",
       "        text-align: right;\n",
       "    }\n",
       "</style>\n",
       "<table border=\"1\" class=\"dataframe\">\n",
       "  <thead>\n",
       "    <tr style=\"text-align: right;\">\n",
       "      <th></th>\n",
       "      <th>serialNo</th>\n",
       "      <th>area</th>\n",
       "      <th>age</th>\n",
       "      <th>exercise</th>\n",
       "      <th>fast_food_new</th>\n",
       "      <th>occupation</th>\n",
       "      <th>incom_catg</th>\n",
       "      <th>smoking</th>\n",
       "      <th>marital_status</th>\n",
       "      <th>meat_intake</th>\n",
       "      <th>cooking_oil</th>\n",
       "      <th>fast_food</th>\n",
       "      <th>height</th>\n",
       "      <th>weight</th>\n",
       "      <th>bypass</th>\n",
       "      <th>heart_attack</th>\n",
       "    </tr>\n",
       "  </thead>\n",
       "  <tbody>\n",
       "    <tr>\n",
       "      <th>195</th>\n",
       "      <td>196</td>\n",
       "      <td>rural</td>\n",
       "      <td>61</td>\n",
       "      <td>none</td>\n",
       "      <td>greater than 3</td>\n",
       "      <td>none</td>\n",
       "      <td>high</td>\n",
       "      <td>smoker</td>\n",
       "      <td>single</td>\n",
       "      <td>&lt;3</td>\n",
       "      <td>oil</td>\n",
       "      <td>none</td>\n",
       "      <td>5.6</td>\n",
       "      <td>68</td>\n",
       "      <td>no</td>\n",
       "      <td>no</td>\n",
       "    </tr>\n",
       "    <tr>\n",
       "      <th>196</th>\n",
       "      <td>197</td>\n",
       "      <td>urban</td>\n",
       "      <td>60</td>\n",
       "      <td>irregular</td>\n",
       "      <td>less than 3</td>\n",
       "      <td>job/business</td>\n",
       "      <td>middle</td>\n",
       "      <td>no smoker</td>\n",
       "      <td>single</td>\n",
       "      <td>&lt;3</td>\n",
       "      <td>ghee</td>\n",
       "      <td>three time</td>\n",
       "      <td>5.7</td>\n",
       "      <td>75</td>\n",
       "      <td>no</td>\n",
       "      <td>no</td>\n",
       "    </tr>\n",
       "    <tr>\n",
       "      <th>197</th>\n",
       "      <td>198</td>\n",
       "      <td>urban</td>\n",
       "      <td>22</td>\n",
       "      <td>irregular</td>\n",
       "      <td>greater than 3</td>\n",
       "      <td>job/business</td>\n",
       "      <td>middle</td>\n",
       "      <td>no smoker</td>\n",
       "      <td>single</td>\n",
       "      <td>&gt;3</td>\n",
       "      <td>ghee</td>\n",
       "      <td>others</td>\n",
       "      <td>5.5</td>\n",
       "      <td>59</td>\n",
       "      <td>no</td>\n",
       "      <td>no</td>\n",
       "    </tr>\n",
       "    <tr>\n",
       "      <th>198</th>\n",
       "      <td>199</td>\n",
       "      <td>urban</td>\n",
       "      <td>23</td>\n",
       "      <td>none</td>\n",
       "      <td>greater than 3</td>\n",
       "      <td>none</td>\n",
       "      <td>low</td>\n",
       "      <td>no smoker</td>\n",
       "      <td>single</td>\n",
       "      <td>&gt;3</td>\n",
       "      <td>ghee</td>\n",
       "      <td>others</td>\n",
       "      <td>5.1</td>\n",
       "      <td>74</td>\n",
       "      <td>no</td>\n",
       "      <td>no</td>\n",
       "    </tr>\n",
       "    <tr>\n",
       "      <th>199</th>\n",
       "      <td>200</td>\n",
       "      <td>urban</td>\n",
       "      <td>35</td>\n",
       "      <td>none</td>\n",
       "      <td>less than 3</td>\n",
       "      <td>job/business</td>\n",
       "      <td>middle</td>\n",
       "      <td>no smoker</td>\n",
       "      <td>married</td>\n",
       "      <td>&gt;3</td>\n",
       "      <td>ghee</td>\n",
       "      <td>one time</td>\n",
       "      <td>5.2</td>\n",
       "      <td>64</td>\n",
       "      <td>no</td>\n",
       "      <td>no</td>\n",
       "    </tr>\n",
       "  </tbody>\n",
       "</table>\n",
       "</div>"
      ],
      "text/plain": [
       "     serialNo   area  age   exercise   fast_food_new    occupation incom_catg  \\\n",
       "195       196  rural   61       none  greater than 3          none       high   \n",
       "196       197  urban   60  irregular     less than 3  job/business     middle   \n",
       "197       198  urban   22  irregular  greater than 3  job/business     middle   \n",
       "198       199  urban   23       none  greater than 3          none        low   \n",
       "199       200  urban   35       none     less than 3  job/business     middle   \n",
       "\n",
       "       smoking marital_status meat_intake cooking_oil   fast_food  height  \\\n",
       "195     smoker         single          <3         oil        none     5.6   \n",
       "196  no smoker         single          <3        ghee  three time     5.7   \n",
       "197  no smoker         single          >3        ghee      others     5.5   \n",
       "198  no smoker         single          >3        ghee      others     5.1   \n",
       "199  no smoker        married          >3        ghee    one time     5.2   \n",
       "\n",
       "     weight bypass heart_attack  \n",
       "195      68     no           no  \n",
       "196      75     no           no  \n",
       "197      59     no           no  \n",
       "198      74     no           no  \n",
       "199      64     no           no  "
      ]
     },
     "execution_count": 559,
     "metadata": {},
     "output_type": "execute_result"
    }
   ],
   "source": [
    "data.tail()"
   ]
  },
  {
   "cell_type": "markdown",
   "metadata": {},
   "source": [
    "After the data collection and checking the dataset proced to the next step"
   ]
  },
  {
   "cell_type": "markdown",
   "metadata": {},
   "source": [
    "# Exploring Data Analysis (EDA)"
   ]
  },
  {
   "cell_type": "code",
   "execution_count": 560,
   "metadata": {},
   "outputs": [
    {
     "name": "stdout",
     "output_type": "stream",
     "text": [
      "<class 'pandas.core.frame.DataFrame'>\n",
      "RangeIndex: 200 entries, 0 to 199\n",
      "Data columns (total 16 columns):\n",
      " #   Column          Non-Null Count  Dtype  \n",
      "---  ------          --------------  -----  \n",
      " 0   serialNo        200 non-null    int64  \n",
      " 1   area            200 non-null    object \n",
      " 2   age             200 non-null    int64  \n",
      " 3   exercise        200 non-null    object \n",
      " 4   fast_food_new   200 non-null    object \n",
      " 5   occupation      200 non-null    object \n",
      " 6   incom_catg      200 non-null    object \n",
      " 7   smoking         200 non-null    object \n",
      " 8   marital_status  200 non-null    object \n",
      " 9   meat_intake     200 non-null    object \n",
      " 10  cooking_oil     200 non-null    object \n",
      " 11  fast_food       200 non-null    object \n",
      " 12  height          200 non-null    float64\n",
      " 13  weight          200 non-null    int64  \n",
      " 14  bypass          200 non-null    object \n",
      " 15  heart_attack    200 non-null    object \n",
      "dtypes: float64(1), int64(3), object(12)\n",
      "memory usage: 25.1+ KB\n"
     ]
    }
   ],
   "source": [
    "data.info()"
   ]
  },
  {
   "cell_type": "code",
   "execution_count": 561,
   "metadata": {},
   "outputs": [
    {
     "data": {
      "text/html": [
       "<div>\n",
       "<style scoped>\n",
       "    .dataframe tbody tr th:only-of-type {\n",
       "        vertical-align: middle;\n",
       "    }\n",
       "\n",
       "    .dataframe tbody tr th {\n",
       "        vertical-align: top;\n",
       "    }\n",
       "\n",
       "    .dataframe thead th {\n",
       "        text-align: right;\n",
       "    }\n",
       "</style>\n",
       "<table border=\"1\" class=\"dataframe\">\n",
       "  <thead>\n",
       "    <tr style=\"text-align: right;\">\n",
       "      <th></th>\n",
       "      <th>serialNo</th>\n",
       "      <th>area</th>\n",
       "      <th>age</th>\n",
       "      <th>exercise</th>\n",
       "      <th>fast_food_new</th>\n",
       "      <th>occupation</th>\n",
       "      <th>incom_catg</th>\n",
       "      <th>smoking</th>\n",
       "      <th>marital_status</th>\n",
       "      <th>meat_intake</th>\n",
       "      <th>cooking_oil</th>\n",
       "      <th>fast_food</th>\n",
       "      <th>height</th>\n",
       "      <th>weight</th>\n",
       "      <th>bypass</th>\n",
       "      <th>heart_attack</th>\n",
       "    </tr>\n",
       "  </thead>\n",
       "  <tbody>\n",
       "    <tr>\n",
       "      <th>0</th>\n",
       "      <td>False</td>\n",
       "      <td>False</td>\n",
       "      <td>False</td>\n",
       "      <td>False</td>\n",
       "      <td>False</td>\n",
       "      <td>False</td>\n",
       "      <td>False</td>\n",
       "      <td>False</td>\n",
       "      <td>False</td>\n",
       "      <td>False</td>\n",
       "      <td>False</td>\n",
       "      <td>False</td>\n",
       "      <td>False</td>\n",
       "      <td>False</td>\n",
       "      <td>False</td>\n",
       "      <td>False</td>\n",
       "    </tr>\n",
       "    <tr>\n",
       "      <th>1</th>\n",
       "      <td>False</td>\n",
       "      <td>False</td>\n",
       "      <td>False</td>\n",
       "      <td>False</td>\n",
       "      <td>False</td>\n",
       "      <td>False</td>\n",
       "      <td>False</td>\n",
       "      <td>False</td>\n",
       "      <td>False</td>\n",
       "      <td>False</td>\n",
       "      <td>False</td>\n",
       "      <td>False</td>\n",
       "      <td>False</td>\n",
       "      <td>False</td>\n",
       "      <td>False</td>\n",
       "      <td>False</td>\n",
       "    </tr>\n",
       "    <tr>\n",
       "      <th>2</th>\n",
       "      <td>False</td>\n",
       "      <td>False</td>\n",
       "      <td>False</td>\n",
       "      <td>False</td>\n",
       "      <td>False</td>\n",
       "      <td>False</td>\n",
       "      <td>False</td>\n",
       "      <td>False</td>\n",
       "      <td>False</td>\n",
       "      <td>False</td>\n",
       "      <td>False</td>\n",
       "      <td>False</td>\n",
       "      <td>False</td>\n",
       "      <td>False</td>\n",
       "      <td>False</td>\n",
       "      <td>False</td>\n",
       "    </tr>\n",
       "    <tr>\n",
       "      <th>3</th>\n",
       "      <td>False</td>\n",
       "      <td>False</td>\n",
       "      <td>False</td>\n",
       "      <td>False</td>\n",
       "      <td>False</td>\n",
       "      <td>False</td>\n",
       "      <td>False</td>\n",
       "      <td>False</td>\n",
       "      <td>False</td>\n",
       "      <td>False</td>\n",
       "      <td>False</td>\n",
       "      <td>False</td>\n",
       "      <td>False</td>\n",
       "      <td>False</td>\n",
       "      <td>False</td>\n",
       "      <td>False</td>\n",
       "    </tr>\n",
       "    <tr>\n",
       "      <th>4</th>\n",
       "      <td>False</td>\n",
       "      <td>False</td>\n",
       "      <td>False</td>\n",
       "      <td>False</td>\n",
       "      <td>False</td>\n",
       "      <td>False</td>\n",
       "      <td>False</td>\n",
       "      <td>False</td>\n",
       "      <td>False</td>\n",
       "      <td>False</td>\n",
       "      <td>False</td>\n",
       "      <td>False</td>\n",
       "      <td>False</td>\n",
       "      <td>False</td>\n",
       "      <td>False</td>\n",
       "      <td>False</td>\n",
       "    </tr>\n",
       "    <tr>\n",
       "      <th>...</th>\n",
       "      <td>...</td>\n",
       "      <td>...</td>\n",
       "      <td>...</td>\n",
       "      <td>...</td>\n",
       "      <td>...</td>\n",
       "      <td>...</td>\n",
       "      <td>...</td>\n",
       "      <td>...</td>\n",
       "      <td>...</td>\n",
       "      <td>...</td>\n",
       "      <td>...</td>\n",
       "      <td>...</td>\n",
       "      <td>...</td>\n",
       "      <td>...</td>\n",
       "      <td>...</td>\n",
       "      <td>...</td>\n",
       "    </tr>\n",
       "    <tr>\n",
       "      <th>195</th>\n",
       "      <td>False</td>\n",
       "      <td>False</td>\n",
       "      <td>False</td>\n",
       "      <td>False</td>\n",
       "      <td>False</td>\n",
       "      <td>False</td>\n",
       "      <td>False</td>\n",
       "      <td>False</td>\n",
       "      <td>False</td>\n",
       "      <td>False</td>\n",
       "      <td>False</td>\n",
       "      <td>False</td>\n",
       "      <td>False</td>\n",
       "      <td>False</td>\n",
       "      <td>False</td>\n",
       "      <td>False</td>\n",
       "    </tr>\n",
       "    <tr>\n",
       "      <th>196</th>\n",
       "      <td>False</td>\n",
       "      <td>False</td>\n",
       "      <td>False</td>\n",
       "      <td>False</td>\n",
       "      <td>False</td>\n",
       "      <td>False</td>\n",
       "      <td>False</td>\n",
       "      <td>False</td>\n",
       "      <td>False</td>\n",
       "      <td>False</td>\n",
       "      <td>False</td>\n",
       "      <td>False</td>\n",
       "      <td>False</td>\n",
       "      <td>False</td>\n",
       "      <td>False</td>\n",
       "      <td>False</td>\n",
       "    </tr>\n",
       "    <tr>\n",
       "      <th>197</th>\n",
       "      <td>False</td>\n",
       "      <td>False</td>\n",
       "      <td>False</td>\n",
       "      <td>False</td>\n",
       "      <td>False</td>\n",
       "      <td>False</td>\n",
       "      <td>False</td>\n",
       "      <td>False</td>\n",
       "      <td>False</td>\n",
       "      <td>False</td>\n",
       "      <td>False</td>\n",
       "      <td>False</td>\n",
       "      <td>False</td>\n",
       "      <td>False</td>\n",
       "      <td>False</td>\n",
       "      <td>False</td>\n",
       "    </tr>\n",
       "    <tr>\n",
       "      <th>198</th>\n",
       "      <td>False</td>\n",
       "      <td>False</td>\n",
       "      <td>False</td>\n",
       "      <td>False</td>\n",
       "      <td>False</td>\n",
       "      <td>False</td>\n",
       "      <td>False</td>\n",
       "      <td>False</td>\n",
       "      <td>False</td>\n",
       "      <td>False</td>\n",
       "      <td>False</td>\n",
       "      <td>False</td>\n",
       "      <td>False</td>\n",
       "      <td>False</td>\n",
       "      <td>False</td>\n",
       "      <td>False</td>\n",
       "    </tr>\n",
       "    <tr>\n",
       "      <th>199</th>\n",
       "      <td>False</td>\n",
       "      <td>False</td>\n",
       "      <td>False</td>\n",
       "      <td>False</td>\n",
       "      <td>False</td>\n",
       "      <td>False</td>\n",
       "      <td>False</td>\n",
       "      <td>False</td>\n",
       "      <td>False</td>\n",
       "      <td>False</td>\n",
       "      <td>False</td>\n",
       "      <td>False</td>\n",
       "      <td>False</td>\n",
       "      <td>False</td>\n",
       "      <td>False</td>\n",
       "      <td>False</td>\n",
       "    </tr>\n",
       "  </tbody>\n",
       "</table>\n",
       "<p>200 rows × 16 columns</p>\n",
       "</div>"
      ],
      "text/plain": [
       "     serialNo   area    age  exercise  fast_food_new  occupation  incom_catg  \\\n",
       "0       False  False  False     False          False       False       False   \n",
       "1       False  False  False     False          False       False       False   \n",
       "2       False  False  False     False          False       False       False   \n",
       "3       False  False  False     False          False       False       False   \n",
       "4       False  False  False     False          False       False       False   \n",
       "..        ...    ...    ...       ...            ...         ...         ...   \n",
       "195     False  False  False     False          False       False       False   \n",
       "196     False  False  False     False          False       False       False   \n",
       "197     False  False  False     False          False       False       False   \n",
       "198     False  False  False     False          False       False       False   \n",
       "199     False  False  False     False          False       False       False   \n",
       "\n",
       "     smoking  marital_status  meat_intake  cooking_oil  fast_food  height  \\\n",
       "0      False           False        False        False      False   False   \n",
       "1      False           False        False        False      False   False   \n",
       "2      False           False        False        False      False   False   \n",
       "3      False           False        False        False      False   False   \n",
       "4      False           False        False        False      False   False   \n",
       "..       ...             ...          ...          ...        ...     ...   \n",
       "195    False           False        False        False      False   False   \n",
       "196    False           False        False        False      False   False   \n",
       "197    False           False        False        False      False   False   \n",
       "198    False           False        False        False      False   False   \n",
       "199    False           False        False        False      False   False   \n",
       "\n",
       "     weight  bypass  heart_attack  \n",
       "0     False   False         False  \n",
       "1     False   False         False  \n",
       "2     False   False         False  \n",
       "3     False   False         False  \n",
       "4     False   False         False  \n",
       "..      ...     ...           ...  \n",
       "195   False   False         False  \n",
       "196   False   False         False  \n",
       "197   False   False         False  \n",
       "198   False   False         False  \n",
       "199   False   False         False  \n",
       "\n",
       "[200 rows x 16 columns]"
      ]
     },
     "execution_count": 561,
     "metadata": {},
     "output_type": "execute_result"
    }
   ],
   "source": [
    "data.isna()"
   ]
  },
  {
   "cell_type": "code",
   "execution_count": 562,
   "metadata": {},
   "outputs": [
    {
     "data": {
      "text/plain": [
       "serialNo          0\n",
       "area              0\n",
       "age               0\n",
       "exercise          0\n",
       "fast_food_new     0\n",
       "occupation        0\n",
       "incom_catg        0\n",
       "smoking           0\n",
       "marital_status    0\n",
       "meat_intake       0\n",
       "cooking_oil       0\n",
       "fast_food         0\n",
       "height            0\n",
       "weight            0\n",
       "bypass            0\n",
       "heart_attack      0\n",
       "dtype: int64"
      ]
     },
     "execution_count": 562,
     "metadata": {},
     "output_type": "execute_result"
    }
   ],
   "source": [
    "data.isna().sum()"
   ]
  },
  {
   "cell_type": "code",
   "execution_count": 563,
   "metadata": {},
   "outputs": [
    {
     "data": {
      "text/plain": [
       "serialNo          False\n",
       "area              False\n",
       "age               False\n",
       "exercise          False\n",
       "fast_food_new     False\n",
       "occupation        False\n",
       "incom_catg        False\n",
       "smoking           False\n",
       "marital_status    False\n",
       "meat_intake       False\n",
       "cooking_oil       False\n",
       "fast_food         False\n",
       "height            False\n",
       "weight            False\n",
       "bypass            False\n",
       "heart_attack      False\n",
       "dtype: bool"
      ]
     },
     "execution_count": 563,
     "metadata": {},
     "output_type": "execute_result"
    }
   ],
   "source": [
    "data.isna().any()"
   ]
  },
  {
   "cell_type": "markdown",
   "metadata": {},
   "source": [
    "- **Get object features**\n",
    "     - Using this method, we can see how many `object(categorical)` type of feature exists in dataset"
   ]
  },
  {
   "cell_type": "code",
   "execution_count": 564,
   "metadata": {},
   "outputs": [
    {
     "data": {
      "text/html": [
       "<div>\n",
       "<style scoped>\n",
       "    .dataframe tbody tr th:only-of-type {\n",
       "        vertical-align: middle;\n",
       "    }\n",
       "\n",
       "    .dataframe tbody tr th {\n",
       "        vertical-align: top;\n",
       "    }\n",
       "\n",
       "    .dataframe thead th {\n",
       "        text-align: right;\n",
       "    }\n",
       "</style>\n",
       "<table border=\"1\" class=\"dataframe\">\n",
       "  <thead>\n",
       "    <tr style=\"text-align: right;\">\n",
       "      <th></th>\n",
       "      <th>area</th>\n",
       "      <th>exercise</th>\n",
       "      <th>fast_food_new</th>\n",
       "      <th>occupation</th>\n",
       "      <th>incom_catg</th>\n",
       "      <th>smoking</th>\n",
       "      <th>marital_status</th>\n",
       "      <th>meat_intake</th>\n",
       "      <th>cooking_oil</th>\n",
       "      <th>fast_food</th>\n",
       "      <th>bypass</th>\n",
       "      <th>heart_attack</th>\n",
       "    </tr>\n",
       "  </thead>\n",
       "  <tbody>\n",
       "    <tr>\n",
       "      <th>count</th>\n",
       "      <td>200</td>\n",
       "      <td>200</td>\n",
       "      <td>200</td>\n",
       "      <td>200</td>\n",
       "      <td>200</td>\n",
       "      <td>200</td>\n",
       "      <td>200</td>\n",
       "      <td>200</td>\n",
       "      <td>200</td>\n",
       "      <td>200</td>\n",
       "      <td>200</td>\n",
       "      <td>200</td>\n",
       "    </tr>\n",
       "    <tr>\n",
       "      <th>unique</th>\n",
       "      <td>2</td>\n",
       "      <td>3</td>\n",
       "      <td>2</td>\n",
       "      <td>3</td>\n",
       "      <td>3</td>\n",
       "      <td>2</td>\n",
       "      <td>2</td>\n",
       "      <td>2</td>\n",
       "      <td>3</td>\n",
       "      <td>8</td>\n",
       "      <td>2</td>\n",
       "      <td>2</td>\n",
       "    </tr>\n",
       "    <tr>\n",
       "      <th>top</th>\n",
       "      <td>urban</td>\n",
       "      <td>none</td>\n",
       "      <td>less than 3</td>\n",
       "      <td>job/business</td>\n",
       "      <td>middle</td>\n",
       "      <td>no smoker</td>\n",
       "      <td>married</td>\n",
       "      <td>&gt;3</td>\n",
       "      <td>ghee</td>\n",
       "      <td>one time</td>\n",
       "      <td>no</td>\n",
       "      <td>no</td>\n",
       "    </tr>\n",
       "    <tr>\n",
       "      <th>freq</th>\n",
       "      <td>140</td>\n",
       "      <td>123</td>\n",
       "      <td>130</td>\n",
       "      <td>86</td>\n",
       "      <td>98</td>\n",
       "      <td>133</td>\n",
       "      <td>123</td>\n",
       "      <td>143</td>\n",
       "      <td>123</td>\n",
       "      <td>96</td>\n",
       "      <td>194</td>\n",
       "      <td>154</td>\n",
       "    </tr>\n",
       "  </tbody>\n",
       "</table>\n",
       "</div>"
      ],
      "text/plain": [
       "         area exercise fast_food_new    occupation incom_catg    smoking  \\\n",
       "count     200      200           200           200        200        200   \n",
       "unique      2        3             2             3          3          2   \n",
       "top     urban     none   less than 3  job/business     middle  no smoker   \n",
       "freq      140      123           130            86         98        133   \n",
       "\n",
       "       marital_status meat_intake cooking_oil fast_food bypass heart_attack  \n",
       "count             200         200         200       200    200          200  \n",
       "unique              2           2           3         8      2            2  \n",
       "top           married          >3        ghee  one time     no           no  \n",
       "freq              123         143         123        96    194          154  "
      ]
     },
     "execution_count": 564,
     "metadata": {},
     "output_type": "execute_result"
    }
   ],
   "source": [
    "data.describe(include=\"O\")"
   ]
  },
  {
   "cell_type": "markdown",
   "metadata": {},
   "source": [
    "As we can see abouve result there are few feature is categorical\n",
    "\n",
    "### To know how many unique values"
   ]
  },
  {
   "cell_type": "code",
   "execution_count": 565,
   "metadata": {},
   "outputs": [
    {
     "data": {
      "text/plain": [
       "area\n",
       "urban    140\n",
       "rural     60\n",
       "Name: count, dtype: int64"
      ]
     },
     "execution_count": 565,
     "metadata": {},
     "output_type": "execute_result"
    }
   ],
   "source": [
    "data.area.value_counts()"
   ]
  },
  {
   "cell_type": "code",
   "execution_count": 566,
   "metadata": {},
   "outputs": [
    {
     "data": {
      "text/plain": [
       "<Axes: ylabel='area'>"
      ]
     },
     "execution_count": 566,
     "metadata": {},
     "output_type": "execute_result"
    },
    {
     "data": {
      "image/png": "[encoded data removed]",
      "text/plain": [
       "<Figure size 640x480 with 1 Axes>"
      ]
     },
     "metadata": {},
     "output_type": "display_data"
    }
   ],
   "source": [
    "sns.barplot(data['area'])"
   ]
  },
  {
   "cell_type": "code",
   "execution_count": 567,
   "metadata": {},
   "outputs": [
    {
     "data": {
      "text/plain": [
       "exercise\n",
       "none         123\n",
       "regular       42\n",
       "irregular     35\n",
       "Name: count, dtype: int64"
      ]
     },
     "execution_count": 567,
     "metadata": {},
     "output_type": "execute_result"
    }
   ],
   "source": [
    "data.exercise.value_counts()"
   ]
  },
  {
   "cell_type": "code",
   "execution_count": 568,
   "metadata": {},
   "outputs": [
    {
     "data": {
      "text/plain": [
       "<Axes: ylabel='exercise'>"
      ]
     },
     "execution_count": 568,
     "metadata": {},
     "output_type": "execute_result"
    },
    {
     "data": {
      "image/png": "[encoded data removed]",
      "text/plain": [
       "<Figure size 640x480 with 1 Axes>"
      ]
     },
     "metadata": {},
     "output_type": "display_data"
    }
   ],
   "source": [
    "sns.barplot(data['exercise'])"
   ]
  },
  {
   "cell_type": "code",
   "execution_count": 569,
   "metadata": {},
   "outputs": [
    {
     "data": {
      "text/plain": [
       "fast_food_new\n",
       "less than 3       130\n",
       "greater than 3     70\n",
       "Name: count, dtype: int64"
      ]
     },
     "execution_count": 569,
     "metadata": {},
     "output_type": "execute_result"
    }
   ],
   "source": [
    "data.fast_food_new.value_counts()"
   ]
  },
  {
   "cell_type": "code",
   "execution_count": 570,
   "metadata": {},
   "outputs": [
    {
     "data": {
      "text/plain": [
       "<Axes: ylabel='fast_food_new'>"
      ]
     },
     "execution_count": 570,
     "metadata": {},
     "output_type": "execute_result"
    },
    {
     "data": {
      "image/png": "[encoded data removed]",
      "text/plain": [
       "<Figure size 640x480 with 1 Axes>"
      ]
     },
     "metadata": {},
     "output_type": "display_data"
    }
   ],
   "source": [
    "sns.barplot(data['fast_food_new'])"
   ]
  },
  {
   "cell_type": "code",
   "execution_count": 571,
   "metadata": {},
   "outputs": [
    {
     "data": {
      "text/plain": [
       "occupation\n",
       "job/business    86\n",
       "other wages     76\n",
       "none            38\n",
       "Name: count, dtype: int64"
      ]
     },
     "execution_count": 571,
     "metadata": {},
     "output_type": "execute_result"
    }
   ],
   "source": [
    "data.occupation.value_counts()"
   ]
  },
  {
   "cell_type": "code",
   "execution_count": 572,
   "metadata": {},
   "outputs": [
    {
     "data": {
      "text/plain": [
       "<Axes: ylabel='occupation'>"
      ]
     },
     "execution_count": 572,
     "metadata": {},
     "output_type": "execute_result"
    },
    {
     "data": {
      "image/png": "[encoded data removed]",
      "text/plain": [
       "<Figure size 640x480 with 1 Axes>"
      ]
     },
     "metadata": {},
     "output_type": "display_data"
    }
   ],
   "source": [
    "sns.barplot(data['occupation'])"
   ]
  },
  {
   "cell_type": "code",
   "execution_count": 573,
   "metadata": {},
   "outputs": [
    {
     "data": {
      "text/plain": [
       "incom_catg\n",
       "middle    98\n",
       "low       87\n",
       "high      15\n",
       "Name: count, dtype: int64"
      ]
     },
     "execution_count": 573,
     "metadata": {},
     "output_type": "execute_result"
    }
   ],
   "source": [
    "data.incom_catg.value_counts()"
   ]
  },
  {
   "cell_type": "code",
   "execution_count": 574,
   "metadata": {},
   "outputs": [
    {
     "data": {
      "text/plain": [
       "<Axes: ylabel='incom_catg'>"
      ]
     },
     "execution_count": 574,
     "metadata": {},
     "output_type": "execute_result"
    },
    {
     "data": {
      "image/png": "[encoded data removed]",
      "text/plain": [
       "<Figure size 640x480 with 1 Axes>"
      ]
     },
     "metadata": {},
     "output_type": "display_data"
    }
   ],
   "source": [
    "sns.barplot(data['incom_catg'])"
   ]
  },
  {
   "cell_type": "code",
   "execution_count": 575,
   "metadata": {},
   "outputs": [
    {
     "data": {
      "text/plain": [
       "smoking\n",
       "no smoker    133\n",
       "smoker        67\n",
       "Name: count, dtype: int64"
      ]
     },
     "execution_count": 575,
     "metadata": {},
     "output_type": "execute_result"
    }
   ],
   "source": [
    "data.smoking.value_counts()"
   ]
  },
  {
   "cell_type": "code",
   "execution_count": 576,
   "metadata": {},
   "outputs": [
    {
     "data": {
      "text/plain": [
       "<Axes: ylabel='smoking'>"
      ]
     },
     "execution_count": 576,
     "metadata": {},
     "output_type": "execute_result"
    },
    {
     "data": {
      "image/png": "[encoded data removed]",
      "text/plain": [
       "<Figure size 640x480 with 1 Axes>"
      ]
     },
     "metadata": {},
     "output_type": "display_data"
    }
   ],
   "source": [
    "sns.barplot(data['smoking'])"
   ]
  },
  {
   "cell_type": "code",
   "execution_count": 577,
   "metadata": {},
   "outputs": [
    {
     "data": {
      "text/plain": [
       "marital_status\n",
       "married    123\n",
       "single      77\n",
       "Name: count, dtype: int64"
      ]
     },
     "execution_count": 577,
     "metadata": {},
     "output_type": "execute_result"
    }
   ],
   "source": [
    "data.marital_status.value_counts()"
   ]
  },
  {
   "cell_type": "code",
   "execution_count": 578,
   "metadata": {},
   "outputs": [
    {
     "data": {
      "text/plain": [
       "<Axes: ylabel='marital_status'>"
      ]
     },
     "execution_count": 578,
     "metadata": {},
     "output_type": "execute_result"
    },
    {
     "data": {
      "image/png": "[encoded data removed]",
      "text/plain": [
       "<Figure size 640x480 with 1 Axes>"
      ]
     },
     "metadata": {},
     "output_type": "display_data"
    }
   ],
   "source": [
    "sns.barplot(data['marital_status'])"
   ]
  },
  {
   "cell_type": "code",
   "execution_count": 579,
   "metadata": {},
   "outputs": [
    {
     "data": {
      "text/plain": [
       "meat_intake\n",
       ">3    143\n",
       "<3     57\n",
       "Name: count, dtype: int64"
      ]
     },
     "execution_count": 579,
     "metadata": {},
     "output_type": "execute_result"
    }
   ],
   "source": [
    "data.meat_intake.value_counts()"
   ]
  },
  {
   "cell_type": "code",
   "execution_count": 580,
   "metadata": {},
   "outputs": [
    {
     "data": {
      "text/plain": [
       "<Axes: ylabel='meat_intake'>"
      ]
     },
     "execution_count": 580,
     "metadata": {},
     "output_type": "execute_result"
    },
    {
     "data": {
      "image/png": "[encoded data removed]",
      "text/plain": [
       "<Figure size 640x480 with 1 Axes>"
      ]
     },
     "metadata": {},
     "output_type": "display_data"
    }
   ],
   "source": [
    "sns.barplot(data['meat_intake'])"
   ]
  },
  {
   "cell_type": "code",
   "execution_count": 581,
   "metadata": {},
   "outputs": [
    {
     "data": {
      "text/plain": [
       "cooking_oil\n",
       "ghee         123\n",
       "oil           69\n",
       "desi ghee      8\n",
       "Name: count, dtype: int64"
      ]
     },
     "execution_count": 581,
     "metadata": {},
     "output_type": "execute_result"
    }
   ],
   "source": [
    "data.cooking_oil.value_counts()"
   ]
  },
  {
   "cell_type": "code",
   "execution_count": 582,
   "metadata": {},
   "outputs": [
    {
     "data": {
      "text/plain": [
       "<Axes: ylabel='cooking_oil'>"
      ]
     },
     "execution_count": 582,
     "metadata": {},
     "output_type": "execute_result"
    },
    {
     "data": {
      "image/png": "[encoded data removed]",
      "text/plain": [
       "<Figure size 640x480 with 1 Axes>"
      ]
     },
     "metadata": {},
     "output_type": "display_data"
    }
   ],
   "source": [
    "sns.barplot(data['cooking_oil'])"
   ]
  },
  {
   "cell_type": "code",
   "execution_count": 583,
   "metadata": {},
   "outputs": [
    {
     "data": {
      "text/plain": [
       "fast_food\n",
       "one time        96\n",
       "ex fast food    42\n",
       "two time        31\n",
       "none            22\n",
       "three time       3\n",
       "others           3\n",
       "four time        2\n",
       "five time        1\n",
       "Name: count, dtype: int64"
      ]
     },
     "execution_count": 583,
     "metadata": {},
     "output_type": "execute_result"
    }
   ],
   "source": [
    "data.fast_food.value_counts()"
   ]
  },
  {
   "cell_type": "code",
   "execution_count": 584,
   "metadata": {},
   "outputs": [
    {
     "data": {
      "text/plain": [
       "<Axes: ylabel='fast_food'>"
      ]
     },
     "execution_count": 584,
     "metadata": {},
     "output_type": "execute_result"
    },
    {
     "data": {
      "image/png": "[encoded data removed]",
      "text/plain": [
       "<Figure size 640x480 with 1 Axes>"
      ]
     },
     "metadata": {},
     "output_type": "display_data"
    }
   ],
   "source": [
    "sns.barplot(data['fast_food'])"
   ]
  },
  {
   "cell_type": "code",
   "execution_count": 585,
   "metadata": {},
   "outputs": [
    {
     "data": {
      "text/plain": [
       "bypass\n",
       "no     194\n",
       "yes      6\n",
       "Name: count, dtype: int64"
      ]
     },
     "execution_count": 585,
     "metadata": {},
     "output_type": "execute_result"
    }
   ],
   "source": [
    "data.bypass.value_counts()"
   ]
  },
  {
   "cell_type": "code",
   "execution_count": 586,
   "metadata": {},
   "outputs": [
    {
     "data": {
      "text/plain": [
       "<Axes: ylabel='bypass'>"
      ]
     },
     "execution_count": 586,
     "metadata": {},
     "output_type": "execute_result"
    },
    {
     "data": {
      "image/png": "[encoded data removed]",
      "text/plain": [
       "<Figure size 640x480 with 1 Axes>"
      ]
     },
     "metadata": {},
     "output_type": "display_data"
    }
   ],
   "source": [
    "sns.barplot(data['bypass'])"
   ]
  },
  {
   "cell_type": "code",
   "execution_count": 587,
   "metadata": {},
   "outputs": [
    {
     "data": {
      "text/plain": [
       "heart_attack\n",
       "no     154\n",
       "yes     46\n",
       "Name: count, dtype: int64"
      ]
     },
     "execution_count": 587,
     "metadata": {},
     "output_type": "execute_result"
    }
   ],
   "source": [
    "data.heart_attack.value_counts()"
   ]
  },
  {
   "cell_type": "code",
   "execution_count": 588,
   "metadata": {},
   "outputs": [
    {
     "data": {
      "text/plain": [
       "<Axes: ylabel='heart_attack'>"
      ]
     },
     "execution_count": 588,
     "metadata": {},
     "output_type": "execute_result"
    },
    {
     "data": {
      "image/png": "[encoded data removed]",
      "text/plain": [
       "<Figure size 640x480 with 1 Axes>"
      ]
     },
     "metadata": {},
     "output_type": "display_data"
    }
   ],
   "source": [
    "sns.barplot(data['heart_attack'])"
   ]
  },
  {
   "cell_type": "code",
   "execution_count": 589,
   "metadata": {},
   "outputs": [
    {
     "data": {
      "text/html": [
       "<div>\n",
       "<style scoped>\n",
       "    .dataframe tbody tr th:only-of-type {\n",
       "        vertical-align: middle;\n",
       "    }\n",
       "\n",
       "    .dataframe tbody tr th {\n",
       "        vertical-align: top;\n",
       "    }\n",
       "\n",
       "    .dataframe thead th {\n",
       "        text-align: right;\n",
       "    }\n",
       "</style>\n",
       "<table border=\"1\" class=\"dataframe\">\n",
       "  <thead>\n",
       "    <tr style=\"text-align: right;\">\n",
       "      <th></th>\n",
       "      <th>serialNo</th>\n",
       "      <th>age</th>\n",
       "      <th>height</th>\n",
       "      <th>weight</th>\n",
       "    </tr>\n",
       "  </thead>\n",
       "  <tbody>\n",
       "    <tr>\n",
       "      <th>count</th>\n",
       "      <td>200.000000</td>\n",
       "      <td>200.000000</td>\n",
       "      <td>200.000000</td>\n",
       "      <td>200.000000</td>\n",
       "    </tr>\n",
       "    <tr>\n",
       "      <th>mean</th>\n",
       "      <td>100.500000</td>\n",
       "      <td>47.845000</td>\n",
       "      <td>5.365300</td>\n",
       "      <td>65.200000</td>\n",
       "    </tr>\n",
       "    <tr>\n",
       "      <th>std</th>\n",
       "      <td>57.879185</td>\n",
       "      <td>16.595422</td>\n",
       "      <td>0.493347</td>\n",
       "      <td>10.195575</td>\n",
       "    </tr>\n",
       "    <tr>\n",
       "      <th>min</th>\n",
       "      <td>1.000000</td>\n",
       "      <td>16.000000</td>\n",
       "      <td>2.900000</td>\n",
       "      <td>40.000000</td>\n",
       "    </tr>\n",
       "    <tr>\n",
       "      <th>25%</th>\n",
       "      <td>50.750000</td>\n",
       "      <td>35.750000</td>\n",
       "      <td>5.000000</td>\n",
       "      <td>60.000000</td>\n",
       "    </tr>\n",
       "    <tr>\n",
       "      <th>50%</th>\n",
       "      <td>100.500000</td>\n",
       "      <td>47.000000</td>\n",
       "      <td>5.350000</td>\n",
       "      <td>65.000000</td>\n",
       "    </tr>\n",
       "    <tr>\n",
       "      <th>75%</th>\n",
       "      <td>150.250000</td>\n",
       "      <td>60.000000</td>\n",
       "      <td>5.800000</td>\n",
       "      <td>70.000000</td>\n",
       "    </tr>\n",
       "    <tr>\n",
       "      <th>max</th>\n",
       "      <td>200.000000</td>\n",
       "      <td>85.000000</td>\n",
       "      <td>6.500000</td>\n",
       "      <td>100.000000</td>\n",
       "    </tr>\n",
       "  </tbody>\n",
       "</table>\n",
       "</div>"
      ],
      "text/plain": [
       "         serialNo         age      height      weight\n",
       "count  200.000000  200.000000  200.000000  200.000000\n",
       "mean   100.500000   47.845000    5.365300   65.200000\n",
       "std     57.879185   16.595422    0.493347   10.195575\n",
       "min      1.000000   16.000000    2.900000   40.000000\n",
       "25%     50.750000   35.750000    5.000000   60.000000\n",
       "50%    100.500000   47.000000    5.350000   65.000000\n",
       "75%    150.250000   60.000000    5.800000   70.000000\n",
       "max    200.000000   85.000000    6.500000  100.000000"
      ]
     },
     "execution_count": 589,
     "metadata": {},
     "output_type": "execute_result"
    }
   ],
   "source": [
    "data.describe()"
   ]
  },
  {
   "cell_type": "markdown",
   "metadata": {},
   "source": [
    "## Remove the unnecssary columns for our dataset"
   ]
  },
  {
   "cell_type": "code",
   "execution_count": 590,
   "metadata": {},
   "outputs": [],
   "source": [
    "data.drop(columns=['serialNo'], inplace=True)"
   ]
  },
  {
   "cell_type": "code",
   "execution_count": 591,
   "metadata": {},
   "outputs": [
    {
     "data": {
      "text/html": [
       "<div>\n",
       "<style scoped>\n",
       "    .dataframe tbody tr th:only-of-type {\n",
       "        vertical-align: middle;\n",
       "    }\n",
       "\n",
       "    .dataframe tbody tr th {\n",
       "        vertical-align: top;\n",
       "    }\n",
       "\n",
       "    .dataframe thead th {\n",
       "        text-align: right;\n",
       "    }\n",
       "</style>\n",
       "<table border=\"1\" class=\"dataframe\">\n",
       "  <thead>\n",
       "    <tr style=\"text-align: right;\">\n",
       "      <th></th>\n",
       "      <th>area</th>\n",
       "      <th>age</th>\n",
       "      <th>exercise</th>\n",
       "      <th>fast_food_new</th>\n",
       "      <th>occupation</th>\n",
       "      <th>incom_catg</th>\n",
       "      <th>smoking</th>\n",
       "      <th>marital_status</th>\n",
       "      <th>meat_intake</th>\n",
       "      <th>cooking_oil</th>\n",
       "      <th>fast_food</th>\n",
       "      <th>height</th>\n",
       "      <th>weight</th>\n",
       "      <th>bypass</th>\n",
       "      <th>heart_attack</th>\n",
       "    </tr>\n",
       "  </thead>\n",
       "  <tbody>\n",
       "    <tr>\n",
       "      <th>0</th>\n",
       "      <td>urban</td>\n",
       "      <td>64</td>\n",
       "      <td>none</td>\n",
       "      <td>greater than 3</td>\n",
       "      <td>job/business</td>\n",
       "      <td>middle</td>\n",
       "      <td>no smoker</td>\n",
       "      <td>single</td>\n",
       "      <td>&gt;3</td>\n",
       "      <td>oil</td>\n",
       "      <td>ex fast food</td>\n",
       "      <td>5.0</td>\n",
       "      <td>75</td>\n",
       "      <td>no</td>\n",
       "      <td>yes</td>\n",
       "    </tr>\n",
       "    <tr>\n",
       "      <th>1</th>\n",
       "      <td>rural</td>\n",
       "      <td>61</td>\n",
       "      <td>none</td>\n",
       "      <td>greater than 3</td>\n",
       "      <td>job/business</td>\n",
       "      <td>middle</td>\n",
       "      <td>no smoker</td>\n",
       "      <td>married</td>\n",
       "      <td>&gt;3</td>\n",
       "      <td>ghee</td>\n",
       "      <td>none</td>\n",
       "      <td>5.2</td>\n",
       "      <td>75</td>\n",
       "      <td>no</td>\n",
       "      <td>no</td>\n",
       "    </tr>\n",
       "    <tr>\n",
       "      <th>2</th>\n",
       "      <td>rural</td>\n",
       "      <td>75</td>\n",
       "      <td>none</td>\n",
       "      <td>greater than 3</td>\n",
       "      <td>job/business</td>\n",
       "      <td>middle</td>\n",
       "      <td>no smoker</td>\n",
       "      <td>single</td>\n",
       "      <td>&gt;3</td>\n",
       "      <td>oil</td>\n",
       "      <td>ex fast food</td>\n",
       "      <td>5.3</td>\n",
       "      <td>75</td>\n",
       "      <td>no</td>\n",
       "      <td>no</td>\n",
       "    </tr>\n",
       "    <tr>\n",
       "      <th>3</th>\n",
       "      <td>urban</td>\n",
       "      <td>70</td>\n",
       "      <td>none</td>\n",
       "      <td>less than 3</td>\n",
       "      <td>other wages</td>\n",
       "      <td>middle</td>\n",
       "      <td>no smoker</td>\n",
       "      <td>single</td>\n",
       "      <td>&lt;3</td>\n",
       "      <td>ghee</td>\n",
       "      <td>two time</td>\n",
       "      <td>5.5</td>\n",
       "      <td>70</td>\n",
       "      <td>no</td>\n",
       "      <td>no</td>\n",
       "    </tr>\n",
       "    <tr>\n",
       "      <th>4</th>\n",
       "      <td>rural</td>\n",
       "      <td>53</td>\n",
       "      <td>none</td>\n",
       "      <td>greater than 3</td>\n",
       "      <td>other wages</td>\n",
       "      <td>middle</td>\n",
       "      <td>no smoker</td>\n",
       "      <td>married</td>\n",
       "      <td>&gt;3</td>\n",
       "      <td>ghee</td>\n",
       "      <td>ex fast food</td>\n",
       "      <td>5.0</td>\n",
       "      <td>50</td>\n",
       "      <td>no</td>\n",
       "      <td>yes</td>\n",
       "    </tr>\n",
       "  </tbody>\n",
       "</table>\n",
       "</div>"
      ],
      "text/plain": [
       "    area  age exercise   fast_food_new    occupation incom_catg    smoking  \\\n",
       "0  urban   64     none  greater than 3  job/business     middle  no smoker   \n",
       "1  rural   61     none  greater than 3  job/business     middle  no smoker   \n",
       "2  rural   75     none  greater than 3  job/business     middle  no smoker   \n",
       "3  urban   70     none     less than 3   other wages     middle  no smoker   \n",
       "4  rural   53     none  greater than 3   other wages     middle  no smoker   \n",
       "\n",
       "  marital_status meat_intake cooking_oil     fast_food  height  weight bypass  \\\n",
       "0         single          >3         oil  ex fast food     5.0      75     no   \n",
       "1        married          >3        ghee          none     5.2      75     no   \n",
       "2         single          >3         oil  ex fast food     5.3      75     no   \n",
       "3         single          <3        ghee      two time     5.5      70     no   \n",
       "4        married          >3        ghee  ex fast food     5.0      50     no   \n",
       "\n",
       "  heart_attack  \n",
       "0          yes  \n",
       "1           no  \n",
       "2           no  \n",
       "3           no  \n",
       "4          yes  "
      ]
     },
     "execution_count": 591,
     "metadata": {},
     "output_type": "execute_result"
    }
   ],
   "source": [
    "data.head()"
   ]
  },
  {
   "cell_type": "markdown",
   "metadata": {},
   "source": [
    "## Let's convert charater column to numeric for model performence\n",
    "\n",
    "- Encode categorical variables using `label encoding` technique"
   ]
  },
  {
   "cell_type": "code",
   "execution_count": 592,
   "metadata": {},
   "outputs": [],
   "source": [
    "label_encoders = {}\n",
    "for col in data.select_dtypes(include=['object']).columns:\n",
    "    label_encoders[col] = LabelEncoder()\n",
    "    data[col] = label_encoders[col].fit_transform(data[col])"
   ]
  },
  {
   "cell_type": "code",
   "execution_count": 593,
   "metadata": {},
   "outputs": [
    {
     "data": {
      "text/html": [
       "<div>\n",
       "<style scoped>\n",
       "    .dataframe tbody tr th:only-of-type {\n",
       "        vertical-align: middle;\n",
       "    }\n",
       "\n",
       "    .dataframe tbody tr th {\n",
       "        vertical-align: top;\n",
       "    }\n",
       "\n",
       "    .dataframe thead th {\n",
       "        text-align: right;\n",
       "    }\n",
       "</style>\n",
       "<table border=\"1\" class=\"dataframe\">\n",
       "  <thead>\n",
       "    <tr style=\"text-align: right;\">\n",
       "      <th></th>\n",
       "      <th>area</th>\n",
       "      <th>age</th>\n",
       "      <th>exercise</th>\n",
       "      <th>fast_food_new</th>\n",
       "      <th>occupation</th>\n",
       "      <th>incom_catg</th>\n",
       "      <th>smoking</th>\n",
       "      <th>marital_status</th>\n",
       "      <th>meat_intake</th>\n",
       "      <th>cooking_oil</th>\n",
       "      <th>fast_food</th>\n",
       "      <th>height</th>\n",
       "      <th>weight</th>\n",
       "      <th>bypass</th>\n",
       "      <th>heart_attack</th>\n",
       "    </tr>\n",
       "  </thead>\n",
       "  <tbody>\n",
       "    <tr>\n",
       "      <th>0</th>\n",
       "      <td>1</td>\n",
       "      <td>64</td>\n",
       "      <td>1</td>\n",
       "      <td>0</td>\n",
       "      <td>0</td>\n",
       "      <td>2</td>\n",
       "      <td>0</td>\n",
       "      <td>1</td>\n",
       "      <td>1</td>\n",
       "      <td>2</td>\n",
       "      <td>0</td>\n",
       "      <td>5.0</td>\n",
       "      <td>75</td>\n",
       "      <td>0</td>\n",
       "      <td>1</td>\n",
       "    </tr>\n",
       "    <tr>\n",
       "      <th>1</th>\n",
       "      <td>0</td>\n",
       "      <td>61</td>\n",
       "      <td>1</td>\n",
       "      <td>0</td>\n",
       "      <td>0</td>\n",
       "      <td>2</td>\n",
       "      <td>0</td>\n",
       "      <td>0</td>\n",
       "      <td>1</td>\n",
       "      <td>1</td>\n",
       "      <td>3</td>\n",
       "      <td>5.2</td>\n",
       "      <td>75</td>\n",
       "      <td>0</td>\n",
       "      <td>0</td>\n",
       "    </tr>\n",
       "    <tr>\n",
       "      <th>2</th>\n",
       "      <td>0</td>\n",
       "      <td>75</td>\n",
       "      <td>1</td>\n",
       "      <td>0</td>\n",
       "      <td>0</td>\n",
       "      <td>2</td>\n",
       "      <td>0</td>\n",
       "      <td>1</td>\n",
       "      <td>1</td>\n",
       "      <td>2</td>\n",
       "      <td>0</td>\n",
       "      <td>5.3</td>\n",
       "      <td>75</td>\n",
       "      <td>0</td>\n",
       "      <td>0</td>\n",
       "    </tr>\n",
       "    <tr>\n",
       "      <th>3</th>\n",
       "      <td>1</td>\n",
       "      <td>70</td>\n",
       "      <td>1</td>\n",
       "      <td>1</td>\n",
       "      <td>2</td>\n",
       "      <td>2</td>\n",
       "      <td>0</td>\n",
       "      <td>1</td>\n",
       "      <td>0</td>\n",
       "      <td>1</td>\n",
       "      <td>7</td>\n",
       "      <td>5.5</td>\n",
       "      <td>70</td>\n",
       "      <td>0</td>\n",
       "      <td>0</td>\n",
       "    </tr>\n",
       "    <tr>\n",
       "      <th>4</th>\n",
       "      <td>0</td>\n",
       "      <td>53</td>\n",
       "      <td>1</td>\n",
       "      <td>0</td>\n",
       "      <td>2</td>\n",
       "      <td>2</td>\n",
       "      <td>0</td>\n",
       "      <td>0</td>\n",
       "      <td>1</td>\n",
       "      <td>1</td>\n",
       "      <td>0</td>\n",
       "      <td>5.0</td>\n",
       "      <td>50</td>\n",
       "      <td>0</td>\n",
       "      <td>1</td>\n",
       "    </tr>\n",
       "  </tbody>\n",
       "</table>\n",
       "</div>"
      ],
      "text/plain": [
       "   area  age  exercise  fast_food_new  occupation  incom_catg  smoking  \\\n",
       "0     1   64         1              0           0           2        0   \n",
       "1     0   61         1              0           0           2        0   \n",
       "2     0   75         1              0           0           2        0   \n",
       "3     1   70         1              1           2           2        0   \n",
       "4     0   53         1              0           2           2        0   \n",
       "\n",
       "   marital_status  meat_intake  cooking_oil  fast_food  height  weight  \\\n",
       "0               1            1            2          0     5.0      75   \n",
       "1               0            1            1          3     5.2      75   \n",
       "2               1            1            2          0     5.3      75   \n",
       "3               1            0            1          7     5.5      70   \n",
       "4               0            1            1          0     5.0      50   \n",
       "\n",
       "   bypass  heart_attack  \n",
       "0       0             1  \n",
       "1       0             0  \n",
       "2       0             0  \n",
       "3       0             0  \n",
       "4       0             1  "
      ]
     },
     "execution_count": 593,
     "metadata": {},
     "output_type": "execute_result"
    }
   ],
   "source": [
    "data.head()"
   ]
  },
  {
   "cell_type": "markdown",
   "metadata": {},
   "source": [
    "## Highlight our Target column and seprate from our dataset"
   ]
  },
  {
   "cell_type": "code",
   "execution_count": 594,
   "metadata": {},
   "outputs": [],
   "source": [
    "x = data.drop(['heart_attack'], axis='columns')"
   ]
  },
  {
   "cell_type": "code",
   "execution_count": 595,
   "metadata": {},
   "outputs": [
    {
     "data": {
      "text/plain": [
       "0    1\n",
       "1    0\n",
       "2    0\n",
       "3    0\n",
       "4    1\n",
       "Name: heart_attack, dtype: int32"
      ]
     },
     "execution_count": 595,
     "metadata": {},
     "output_type": "execute_result"
    }
   ],
   "source": [
    "y = data.heart_attack\n",
    "y.head()"
   ]
  },
  {
   "cell_type": "markdown",
   "metadata": {},
   "source": [
    "# Split the data into features (X) and the response variable (y)"
   ]
  },
  {
   "cell_type": "code",
   "execution_count": 596,
   "metadata": {},
   "outputs": [
    {
     "name": "stdout",
     "output_type": "stream",
     "text": [
      "Training set shape:  (140, 14)\n",
      "Testing set shape:  (60, 14)\n"
     ]
    }
   ],
   "source": [
    "# Splitting the dataset into training and test sets\n",
    "X_train, X_test, y_train, y_test = train_test_split(x, y,  test_size=0.30)\n",
    "\n",
    "print(\"Training set shape: \", X_train.shape)\n",
    "print(\"Testing set shape: \", X_test.shape)"
   ]
  },
  {
   "cell_type": "markdown",
   "metadata": {},
   "source": [
    "# Define the machine learning models: KNN, SVM, Logistic Regression, Random Forest, Decision Tree, Naive Bayes.\n",
    "\n",
    "    let's start to train our models one by one"
   ]
  },
  {
   "cell_type": "markdown",
   "metadata": {},
   "source": [
    "### Logistic Regreession Model"
   ]
  },
  {
   "cell_type": "code",
   "execution_count": 597,
   "metadata": {},
   "outputs": [],
   "source": [
    "# Create the LogisticRegression model with increased max_iter\n",
    "lr = LogisticRegression(max_iter=1000)\n",
    "model1 = lr.fit(X_train, y_train)"
   ]
  },
  {
   "cell_type": "code",
   "execution_count": 598,
   "metadata": {},
   "outputs": [
    {
     "data": {
      "text/plain": [
       "0.8333333333333334"
      ]
     },
     "execution_count": 598,
     "metadata": {},
     "output_type": "execute_result"
    }
   ],
   "source": [
    "model1.score(X_test,y_test)"
   ]
  },
  {
   "cell_type": "markdown",
   "metadata": {},
   "source": [
    "Our Current `Logistic Regression` Model Accurcy score is \"0.8\" that is not good result so that's why new we need to perform `KFolds(3,5,10)` for improve our model results"
   ]
  },
  {
   "cell_type": "code",
   "execution_count": 599,
   "metadata": {},
   "outputs": [
    {
     "name": "stdout",
     "output_type": "stream",
     "text": [
      "Mean Cross-Validation Score (3-fold):\n",
      "Accuracy: 0.7405397256143526\n",
      "Precision: 0.7727272727272728\n",
      "Recall: 0.5138888888888888\n",
      "F1-score: 0.48888888888888893\n"
     ]
    },
    {
     "name": "stdout",
     "output_type": "stream",
     "text": [
      "\n",
      "Mean Cross-Validation Score (5-fold):\n",
      "Accuracy: 0.765\n",
      "Precision: 0.7236363636363636\n",
      "Recall: 0.45111111111111113\n",
      "F1-score: 0.493515037593985\n"
     ]
    },
    {
     "name": "stderr",
     "output_type": "stream",
     "text": [
      "C:\\Users\\innoc\\AppData\\Local\\Packages\\PythonSoftwareFoundation.Python.3.11_qbz5n2kfra8p0\\LocalCache\\local-packages\\Python311\\site-packages\\sklearn\\metrics\\_classification.py:1469: UndefinedMetricWarning: Precision is ill-defined and being set to 0.0 due to no predicted samples. Use `zero_division` parameter to control this behavior.\n",
      "  _warn_prf(average, modifier, msg_start, len(result))\n"
     ]
    },
    {
     "name": "stdout",
     "output_type": "stream",
     "text": [
      "\n",
      "Mean Cross-Validation Score (10-fold):\n",
      "Accuracy: 0.785\n",
      "Precision: 0.6481060606060606\n",
      "Recall: 0.45999999999999996\n",
      "F1-score: 0.5009698634698634\n"
     ]
    }
   ],
   "source": [
    "# Define scoring metrics\n",
    "scoring = {'accuracy': make_scorer(accuracy_score),\n",
    "           'precision': make_scorer(precision_score),\n",
    "           'recall': make_scorer(recall_score),\n",
    "           'f1_score': make_scorer(f1_score)}\n",
    "\n",
    "# Perform 3-fold cross-validation\n",
    "cv_results_3_fold = cross_validate(model1, x, y, cv=3, scoring=scoring)\n",
    "print(\"Mean Cross-Validation Score (3-fold):\")\n",
    "print(\"Accuracy:\", cv_results_3_fold['test_accuracy'].mean())\n",
    "print(\"Precision:\", cv_results_3_fold['test_precision'].mean())\n",
    "print(\"Recall:\", cv_results_3_fold['test_recall'].mean())\n",
    "print(\"F1-score:\", cv_results_3_fold['test_f1_score'].mean())\n",
    "\n",
    "# Perform 5-fold cross-validation\n",
    "cv_results_5_fold = cross_validate(model1, x, y, cv=5, scoring=scoring)\n",
    "print(\"\\nMean Cross-Validation Score (5-fold):\")\n",
    "print(\"Accuracy:\", cv_results_5_fold['test_accuracy'].mean())\n",
    "print(\"Precision:\", cv_results_5_fold['test_precision'].mean())\n",
    "print(\"Recall:\", cv_results_5_fold['test_recall'].mean())\n",
    "print(\"F1-score:\", cv_results_5_fold['test_f1_score'].mean())\n",
    "\n",
    "# Perform 10-fold cross-validation\n",
    "cv_results_10_fold = cross_validate(model1, x, y, cv=10, scoring=scoring)\n",
    "print(\"\\nMean Cross-Validation Score (10-fold):\")\n",
    "print(\"Accuracy:\", cv_results_10_fold['test_accuracy'].mean())\n",
    "print(\"Precision:\", cv_results_10_fold['test_precision'].mean())\n",
    "print(\"Recall:\", cv_results_10_fold['test_recall'].mean())\n",
    "print(\"F1-score:\", cv_results_10_fold['test_f1_score'].mean())\n"
   ]
  },
  {
   "cell_type": "code",
   "execution_count": 600,
   "metadata": {},
   "outputs": [
    {
     "name": "stdout",
     "output_type": "stream",
     "text": [
      "[0 0 1 0 1 0 0 0 0 0 0 0 1 1 1 0 0 0 0 0 0 1 0 0 0 0 0 0 0 0 0 0 0 0 0 0 0\n",
      " 0 0 0 0 0 1 0 0 1 0 0 0 0 0 0 0 0 0 0 0 0 0 0]\n"
     ]
    }
   ],
   "source": [
    "y_pred = model1.predict(X_test)\n",
    "print(y_pred)"
   ]
  },
  {
   "cell_type": "code",
   "execution_count": 601,
   "metadata": {},
   "outputs": [
    {
     "data": {
      "text/plain": [
       "Text(50.722222222222214, 0.5, 'Actul')"
      ]
     },
     "execution_count": 601,
     "metadata": {},
     "output_type": "execute_result"
    },
    {
     "data": {
      "image/png": "[encoded data removed]",
      "text/plain": [
       "<Figure size 640x480 with 2 Axes>"
      ]
     },
     "metadata": {},
     "output_type": "display_data"
    }
   ],
   "source": [
    "lr_cm = confusion_matrix(y_test, y_pred)\n",
    "lr_cm\n",
    "\n",
    "sns.heatmap(lr_cm, annot = True)\n",
    "plt.xlabel('Predicted')\n",
    "plt.ylabel('Actul')"
   ]
  },
  {
   "cell_type": "markdown",
   "metadata": {},
   "source": [
    "### Random Forest Regreession Model"
   ]
  },
  {
   "cell_type": "code",
   "execution_count": 602,
   "metadata": {},
   "outputs": [],
   "source": [
    "rm = RandomForestClassifier()\n",
    "model2 = rm.fit(X_train, y_train)\n"
   ]
  },
  {
   "cell_type": "code",
   "execution_count": 603,
   "metadata": {},
   "outputs": [
    {
     "data": {
      "text/plain": [
       "0.85"
      ]
     },
     "execution_count": 603,
     "metadata": {},
     "output_type": "execute_result"
    }
   ],
   "source": [
    "model2.score(X_test, y_test)"
   ]
  },
  {
   "cell_type": "markdown",
   "metadata": {},
   "source": [
    "Our Current `Random Forest` Model Accurcy score is \"0.8\" that is not good result so that's why new we need to perform `KFolds(3,5,10)` for improve our model results"
   ]
  },
  {
   "cell_type": "code",
   "execution_count": 604,
   "metadata": {},
   "outputs": [
    {
     "name": "stdout",
     "output_type": "stream",
     "text": [
      "Mean Cross-Validation Score (3-fold):\n",
      "Accuracy: 0.7008141112618724\n",
      "Precision: 0.7581699346405228\n",
      "Recall: 0.4916666666666667\n",
      "F1-score: 0.44089078417436633\n",
      "\n",
      "Mean Cross-Validation Score (5-fold):\n",
      "Accuracy: 0.75\n",
      "Precision: 0.7282051282051282\n",
      "Recall: 0.4066666666666666\n",
      "F1-score: 0.4315813219039025\n"
     ]
    },
    {
     "name": "stderr",
     "output_type": "stream",
     "text": [
      "C:\\Users\\innoc\\AppData\\Local\\Packages\\PythonSoftwareFoundation.Python.3.11_qbz5n2kfra8p0\\LocalCache\\local-packages\\Python311\\site-packages\\sklearn\\metrics\\_classification.py:1469: UndefinedMetricWarning: Precision is ill-defined and being set to 0.0 due to no predicted samples. Use `zero_division` parameter to control this behavior.\n",
      "  _warn_prf(average, modifier, msg_start, len(result))\n"
     ]
    },
    {
     "name": "stdout",
     "output_type": "stream",
     "text": [
      "\n",
      "Mean Cross-Validation Score (10-fold):\n",
      "Accuracy: 0.7550000000000001\n",
      "Precision: 0.48583333333333334\n",
      "Recall: 0.34500000000000003\n",
      "F1-score: 0.3655189255189255\n"
     ]
    }
   ],
   "source": [
    "# Define scoring metrics\n",
    "scoring = {'accuracy': make_scorer(accuracy_score),\n",
    "           'precision': make_scorer(precision_score),\n",
    "           'recall': make_scorer(recall_score),\n",
    "           'f1_score': make_scorer(f1_score)}\n",
    "\n",
    "# Perform 3-fold cross-validation\n",
    "cv_results_3_fold = cross_validate(model2, x, y, cv=3, scoring=scoring)\n",
    "print(\"Mean Cross-Validation Score (3-fold):\")\n",
    "print(\"Accuracy:\", cv_results_3_fold['test_accuracy'].mean())\n",
    "print(\"Precision:\", cv_results_3_fold['test_precision'].mean())\n",
    "print(\"Recall:\", cv_results_3_fold['test_recall'].mean())\n",
    "print(\"F1-score:\", cv_results_3_fold['test_f1_score'].mean())\n",
    "\n",
    "# Perform 5-fold cross-validation\n",
    "cv_results_5_fold = cross_validate(model2, x, y, cv=5, scoring=scoring)\n",
    "print(\"\\nMean Cross-Validation Score (5-fold):\")\n",
    "print(\"Accuracy:\", cv_results_5_fold['test_accuracy'].mean())\n",
    "print(\"Precision:\", cv_results_5_fold['test_precision'].mean())\n",
    "print(\"Recall:\", cv_results_5_fold['test_recall'].mean())\n",
    "print(\"F1-score:\", cv_results_5_fold['test_f1_score'].mean())\n",
    "\n",
    "# Perform 10-fold cross-validation\n",
    "cv_results_10_fold = cross_validate(model2, x, y, cv=10, scoring=scoring)\n",
    "print(\"\\nMean Cross-Validation Score (10-fold):\")\n",
    "print(\"Accuracy:\", cv_results_10_fold['test_accuracy'].mean())\n",
    "print(\"Precision:\", cv_results_10_fold['test_precision'].mean())\n",
    "print(\"Recall:\", cv_results_10_fold['test_recall'].mean())\n",
    "print(\"F1-score:\", cv_results_10_fold['test_f1_score'].mean())\n"
   ]
  },
  {
   "cell_type": "code",
   "execution_count": 605,
   "metadata": {},
   "outputs": [
    {
     "name": "stdout",
     "output_type": "stream",
     "text": [
      "[0 0 1 0 1 0 0 0 0 0 0 0 1 0 1 0 0 0 0 0 0 0 0 0 0 0 1 0 0 0 0 0 0 0 0 0 0\n",
      " 0 0 0 0 0 0 0 0 1 0 0 0 0 0 1 0 0 0 0 0 0 0 0]\n"
     ]
    }
   ],
   "source": [
    "y_pred = model2.predict(X_test)\n",
    "print(y_pred)"
   ]
  },
  {
   "cell_type": "code",
   "execution_count": 606,
   "metadata": {},
   "outputs": [
    {
     "data": {
      "text/plain": [
       "Text(50.722222222222214, 0.5, 'Actul')"
      ]
     },
     "execution_count": 606,
     "metadata": {},
     "output_type": "execute_result"
    },
    {
     "data": {
      "image/png": "[encoded data removed]",
      "text/plain": [
       "<Figure size 640x480 with 2 Axes>"
      ]
     },
     "metadata": {},
     "output_type": "display_data"
    }
   ],
   "source": [
    "rm_cm = confusion_matrix(y_test, y_pred)\n",
    "rm_cm\n",
    "\n",
    "sns.heatmap(rm_cm, annot=True)\n",
    "plt.xlabel('Predicted')\n",
    "plt.ylabel('Actul')"
   ]
  }
 ],
 "metadata": {
  "kernelspec": {
   "display_name": "Python 3",
   "language": "python",
   "name": "python3"
  },
  "language_info": {
   "codemirror_mode": {
    "name": "ipython",
    "version": 3
   },
   "file_extension": ".py",
   "mimetype": "text/x-python",
   "name": "python",
   "nbconvert_exporter": "python",
   "pygments_lexer": "ipython3",
   "version": "3.11.9"
  }
 },
 "nbformat": 4,
 "nbformat_minor": 2
}
